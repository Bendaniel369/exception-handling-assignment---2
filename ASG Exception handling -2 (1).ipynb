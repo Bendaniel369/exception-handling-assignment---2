{
 "cells": [
  {
   "cell_type": "markdown",
   "id": "3e495a73-6cec-443a-be26-c073bbd422c6",
   "metadata": {},
   "source": [
    "Q1.Explain why we have to use the Exception class while creating a Custom Exception.\n",
    "\n",
    "Answer1:-  We have to use the Exception class while creating a Custom Exception to provide custom messages/instructions to users for specific use cases by this readability of code increases.\n",
    "The purpose of a custom exception class is to show of localized message strings in a custom message catalog into the mechanism that is used for reporting the errors."
   ]
  },
  {
   "cell_type": "markdown",
   "id": "1af99811-a96b-46a7-ac4e-608131327178",
   "metadata": {},
   "source": [
    "Q2. Write a python program to print Python Exception Hierarchy.\n",
    "Answer2:- "
   ]
  },
  {
   "cell_type": "code",
   "execution_count": null,
   "id": "8fc795e0-0034-45d8-98a6-511cdb5a3831",
   "metadata": {},
   "outputs": [],
   "source": [
    "import sys\n",
    "\n",
    "def print_exception_hierarchy():\n",
    "    exceptions = []\n",
    "    for name, obj in vars(sys.modules[__name__]).items(): \n",
    "        if isinstance(obj, type) and issubclass (obj, BaseException): \n",
    "            exceptions.append(obj)\n",
    "\n",
    "    exceptions.sort(key-lambda x: x.__name__) \n",
    "    print(\"Python Exception Hierarchy: \")\n",
    "\n",
    "    for exception in exceptions:\n",
    "        hierarchy = [exception.__name__] \n",
    "        base = exception.__bases__[0] \n",
    "        while base != BaseException:\n",
    "            hierarchy.append(base.__name__) \n",
    "            base= base.__bases__[0]\n",
    "        \n",
    "        hierarchy.reverse()\n",
    "        print(\"->\".join(hierarchy))\n",
    "\n",
    "#Call the function to print the hierarchy\n",
    "print_exception_hierarchy()"
   ]
  },
  {
   "cell_type": "markdown",
   "id": "164c02d7-261b-41bd-929d-af6775643947",
   "metadata": {},
   "source": [
    "Q3. What errors are defined in the ArithmeticError class? Explain any two with an example.\n",
    "\n",
    "Answer3. ArithmeticError is simply an error that occurs during numeric calculations.\n",
    "\n",
    "       ArithmeticError types in Python include:\n",
    "\n",
    "           OverFlowError\n",
    "           ZeroDivisionError\n",
    "           FloatingPointError\n",
    "           \n",
    "Example1:-"
   ]
  },
  {
   "cell_type": "code",
   "execution_count": 4,
   "id": "30ff4033-64da-4018-ae63-cd4621cd748c",
   "metadata": {},
   "outputs": [],
   "source": [
    "def division(): \n",
    "    try:\n",
    "        a=int(input(\"enter the value of divident-\"))\n",
    "        b=int(input(\"enter the value of divisor-\"))\n",
    "        return \"your required answer is \" ,a/b\n",
    "    except ArithmeticError as e:\n",
    "        print(\"ERROR your entered divisor is Zero-\", e)"
   ]
  },
  {
   "cell_type": "markdown",
   "id": "fe49ece5-4aa5-4f5f-8603-9599aced95c5",
   "metadata": {},
   "source": [
    "Example2:-"
   ]
  },
  {
   "cell_type": "code",
   "execution_count": 11,
   "id": "a2878bad-2be6-4625-aeb1-f603efede430",
   "metadata": {},
   "outputs": [
    {
     "name": "stdout",
     "output_type": "stream",
     "text": [
      "5.0\n",
      "25.0\n",
      "15625.0\n",
      "5.960464477539062e+16\n",
      "7.52316384526264e+83\n",
      "data is overflowed\n",
      "(34, 'Numerical result out of range')\n"
     ]
    }
   ],
   "source": [
    "j = 5.0\n",
    "\n",
    "try:\n",
    "    for i in range(1, 10):\n",
    "        j = j**i\n",
    "        print(j)\n",
    "except ArithmeticError as e:\n",
    "    print(\"data is overflowed\")\n",
    "    print(e)"
   ]
  },
  {
   "cell_type": "markdown",
   "id": "d052526b-444e-42f9-8ca1-cbafdbbf2345",
   "metadata": {},
   "source": [
    "Q4.Why LookupError class is used? Explain with an example KeyError and IndexError.\n",
    "\n",
    "Answer4:-The LookupError exception in Python forms the base class for all exceptions that are raised when an index or a key is not found for a sequence or dictionary respectively. Lookup Error can handle both IndexError and KeyError "
   ]
  },
  {
   "cell_type": "code",
   "execution_count": 13,
   "id": "6f0baa28-052b-48e4-bc84-579e91e58b0e",
   "metadata": {},
   "outputs": [
    {
     "name": "stdout",
     "output_type": "stream",
     "text": [
      "tuple index out of range <class 'IndexError'>\n"
     ]
    }
   ],
   "source": [
    "#example of Index Error \n",
    "\n",
    "x = (1, 2, 3, 4)\n",
    "try:\n",
    "    print(x[10])\n",
    "except IndexError as e:\n",
    "    print(e,e.__class__)"
   ]
  },
  {
   "cell_type": "code",
   "execution_count": 20,
   "id": "5dc309c0-fbdb-4d9d-9eba-73b1b2485b56",
   "metadata": {},
   "outputs": [],
   "source": [
    "#example of KeyError \n",
    "\n",
    "def show_details():\n",
    "    a={\"name\":\"ben\",\"course\":\"Data Science\",\"student_id\":1234}\n",
    "    try:\n",
    "        print(a[input(\"enter any detail which you want to see(name, Data Science,student_id)\") ])\n",
    "    except KeyError as k:\n",
    "        print(k,k.__class__)\n"
   ]
  },
  {
   "cell_type": "markdown",
   "id": "3cea7820-956d-4ad8-9921-ddee0ffc0a78",
   "metadata": {},
   "source": [
    "Q 5. Explain ImportError. What is ModuleNotFoundError?\n",
    "\n",
    "Answer5:- ImportError occurs when the Python program tries to import module which does not exist in the private table.  It can be easily remove by try and except block by using Exception handling .\n",
    "\n",
    "The 'ModuleNotFound' error is a syntax error that appears when the import statement cannot find the file at the declared path. It is a type of ImportError that means we can simplily remove ModuleNotFound Error by using ImportError."
   ]
  },
  {
   "cell_type": "markdown",
   "id": "71e0268b-a141-4ee6-9a27-f93609614e92",
   "metadata": {},
   "source": [
    "Q6. List down some best practices for exception handling in python\n",
    "\n",
    "Answer6.\n",
    "\n",
    "1.use always a specific exception\n",
    "\n",
    "2.print always a proper message\n",
    "\n",
    "3.always try to log your error\n",
    "\n",
    "4.always avoid to write a multiple exception handling\n",
    "\n",
    "5.document all the error \n",
    "\n",
    "6.clean up all the resources"
   ]
  },
  {
   "cell_type": "code",
   "execution_count": null,
   "id": "294d9a41-7951-4cc4-87f8-dc75deefa140",
   "metadata": {},
   "outputs": [],
   "source": []
  }
 ],
 "metadata": {
  "kernelspec": {
   "display_name": "Python 3 (ipykernel)",
   "language": "python",
   "name": "python3"
  },
  "language_info": {
   "codemirror_mode": {
    "name": "ipython",
    "version": 3
   },
   "file_extension": ".py",
   "mimetype": "text/x-python",
   "name": "python",
   "nbconvert_exporter": "python",
   "pygments_lexer": "ipython3",
   "version": "3.10.8"
  }
 },
 "nbformat": 4,
 "nbformat_minor": 5
}
